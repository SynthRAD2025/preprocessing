{
 "cells": [
  {
   "cell_type": "code",
   "execution_count": 114,
   "metadata": {},
   "outputs": [
    {
     "ename": "ModuleNotFoundError",
     "evalue": "No module named 'preprocessing_utils'",
     "output_type": "error",
     "traceback": [
      "\u001b[0;31m---------------------------------------------------------------------------\u001b[0m",
      "\u001b[0;31mModuleNotFoundError\u001b[0m                       Traceback (most recent call last)",
      "Cell \u001b[0;32mIn[114], line 6\u001b[0m\n\u001b[1;32m      4\u001b[0m \u001b[38;5;28;01mimport\u001b[39;00m \u001b[38;5;21;01mos\u001b[39;00m\n\u001b[1;32m      5\u001b[0m \u001b[38;5;28;01mimport\u001b[39;00m \u001b[38;5;21;01mshutil\u001b[39;00m\n\u001b[0;32m----> 6\u001b[0m \u001b[38;5;28;01mfrom\u001b[39;00m \u001b[38;5;21;01mpreprocessing_utils\u001b[39;00m \u001b[38;5;28;01mimport\u001b[39;00m preprocessing_utils \u001b[38;5;28;01mas\u001b[39;00m utils\n",
      "\u001b[0;31mModuleNotFoundError\u001b[0m: No module named 'preprocessing_utils'"
     ]
    }
   ],
   "source": [
    "import SimpleITK as sitk\n",
    "import numpy as np\n",
    "import tempfile\n",
    "import os\n",
    "import shutil\n"
   ]
  },
  {
   "cell_type": "markdown",
   "metadata": {},
   "source": [
    "**Warp structures**"
   ]
  },
  {
   "cell_type": "code",
   "execution_count": 123,
   "metadata": {},
   "outputs": [
    {
     "name": "stdout",
     "output_type": "stream",
     "text": [
      "ELASTIX version: 5.0.1\n",
      "Command line options from ElastixBase:\n",
      "-out      ./\n",
      "-threads  unspecified, so all available threads are used\n",
      "-def      unspecified, so no input points transformed\n",
      "-jac      unspecified, so no det(dT/dx) computed\n",
      "-jacmat   unspecified, so no dT/dx computed\n",
      "\n",
      "Reading input image ...\n",
      "  Reading input image took 0.000002 s\n",
      "Calling all ReadFromFile()'s ...\n",
      "  Calling all ReadFromFile()'s took 0.004999 s\n",
      "Transforming points ...\n",
      "  The command-line option \"-def\" is not used, so no points are transformed\n",
      "  Transforming points done, it took 0.00s\n",
      "Compute determinant of spatial Jacobian ...\n",
      "  The command-line option \"-jac\" is not used, so no det(dT/dx) computed.\n",
      "  Computing determinant of spatial Jacobian done, it took 0.00s\n",
      "Compute spatial Jacobian (full matrix) ...\n",
      "  The command-line option \"-jacmat\" is not used, so no dT/dx computed.\n",
      "  Computing spatial Jacobian done, it took 0.00s\n",
      "Resampling image and writing to disk ...\n",
      "  Resampling took 2.25s\n"
     ]
    }
   ],
   "source": [
    "transform = sitk.ReadParameterFile('/workspace/data/1%/Task2/Abdomen/2ABB001/output/transform_def.txt')\n",
    "mask = sitk.ReadImage('/workspace/data/1%/Task2/Abdomen/2ABB001/structures/Leber.nrrd')\n",
    "ct_s2 = sitk.ReadImage('/workspace/data/1%/Task2/Abdomen/2ABB001/output/ct_s2.nii.gz')\n",
    "\n",
    "#transform['ResampleInterpolator']='FinalNearestNeighborInterpolator'\n",
    "transform['FinalBSplineInterpolationOrder']='0'  \n",
    "\n",
    "transformer = sitk.TransformixImageFilter()\n",
    "transformer.SetTransformParameterMap(transform)\n",
    "transformer.LogToConsoleOn()\n",
    "transformer.LogToFileOff()\n",
    "transformer.SetMovingImage(mask)\n",
    "transformer.Execute()\n",
    "transformed_mask = transformer.GetResultImage()\n",
    "sitk.WriteImage(transformed_mask, '/workspace/data/1%/Task2/Abdomen/2ABB001/structures/Leber_def.nrrd',useCompression=True)"
   ]
  },
  {
   "cell_type": "code",
   "execution_count": 112,
   "metadata": {},
   "outputs": [],
   "source": [
    "## post-process mask\n",
    "transformed_mask = sitk.Threshold(sitk.Cast(transformed_mask, sitk.sitkUInt16),0,1)\n",
    "transformed_mask = sitk.BinaryDilate(transformed_mask, (4,4,4), sitk.sitkBall)\n",
    "transformed_mask = sitk.BinaryErode(transformed_mask, (4,4,4),sitk.sitkBall)\n",
    "sitk.WriteImage(transformed_mask, '/workspace/data/1%/Task2/Abdomen/2ABB001/structures/Leber_def_post.nrrd',useCompression=True)"
   ]
  },
  {
   "cell_type": "code",
   "execution_count": null,
   "metadata": {},
   "outputs": [],
   "source": []
  },
  {
   "cell_type": "code",
   "execution_count": 89,
   "metadata": {},
   "outputs": [],
   "source": [
    "\n"
   ]
  }
 ],
 "metadata": {
  "kernelspec": {
   "display_name": "Python 3",
   "language": "python",
   "name": "python3"
  },
  "language_info": {
   "codemirror_mode": {
    "name": "ipython",
    "version": 3
   },
   "file_extension": ".py",
   "mimetype": "text/x-python",
   "name": "python",
   "nbconvert_exporter": "python",
   "pygments_lexer": "ipython3",
   "version": "3.12.4"
  }
 },
 "nbformat": 4,
 "nbformat_minor": 2
}
